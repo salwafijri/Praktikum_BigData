{
  "nbformat": 4,
  "nbformat_minor": 0,
  "metadata": {
    "colab": {
      "provenance": []
    },
    "kernelspec": {
      "name": "python3",
      "display_name": "Python 3"
    },
    "language_info": {
      "name": "python"
    }
  },
  "cells": [
    {
      "cell_type": "markdown",
      "source": [
        "### **Inisialisasi**"
      ],
      "metadata": {
        "id": "34L4oYrd5Yht"
      }
    },
    {
      "cell_type": "code",
      "execution_count": null,
      "metadata": {
        "id": "kz1zW6Mo5AeG"
      },
      "outputs": [],
      "source": [
        "from pyspark.sql import SparkSession\n",
        "from pyspark.sql import functions as F\n",
        "from pyspark.sql.window import Window\n",
        "\n",
        "# Inisialisasi SparkSession\n",
        "spark = SparkSession.builder.appName('HandsOnPertemuan3').getOrCreate()\n",
        "\n",
        "# Data dan skema dasar\n",
        "data = [\n",
        "    ('James', 'Sales', 3000),\n",
        "    ('Michael', 'Sales', 4600),\n",
        "    ('Robert', 'Sales', 4100),\n",
        "    ('Maria', 'Finance', 3000),\n",
        "    ('Ravi', 'Finance', 4000)\n",
        "]\n",
        "columns = ['EmployeeName', 'Department', 'Salary']"
      ]
    },
    {
      "cell_type": "markdown",
      "source": [
        "### **Tugas 1: Buat DataFrame sederhana di Spark dan eksplorasi beberapa fungsi dasar yang tersedia.**"
      ],
      "metadata": {
        "id": "O6leg7VI5e_e"
      }
    },
    {
      "cell_type": "code",
      "source": [
        "# Tugas 1: Buat DataFrame sederhana dan eksplorasi fungsi dasar\n",
        "df = spark.createDataFrame(data, schema=columns)\n",
        "print(\"DataFrame sederhana dan fungsi dasar\")\n",
        "df.show()\n",
        "df.printSchema()\n",
        "df.describe().show()"
      ],
      "metadata": {
        "colab": {
          "base_uri": "https://localhost:8080/"
        },
        "id": "CfidaP4r5lHk",
        "outputId": "e42abdbb-fd1f-48b9-a0b7-476e224b804f"
      },
      "execution_count": null,
      "outputs": [
        {
          "output_type": "stream",
          "name": "stdout",
          "text": [
            "DataFrame sederhana dan fungsi dasar\n",
            "+------------+----------+------+\n",
            "|EmployeeName|Department|Salary|\n",
            "+------------+----------+------+\n",
            "|       James|     Sales|  3000|\n",
            "|     Michael|     Sales|  4600|\n",
            "|      Robert|     Sales|  4100|\n",
            "|       Maria|   Finance|  3000|\n",
            "|        Ravi|   Finance|  4000|\n",
            "+------------+----------+------+\n",
            "\n",
            "root\n",
            " |-- EmployeeName: string (nullable = true)\n",
            " |-- Department: string (nullable = true)\n",
            " |-- Salary: long (nullable = true)\n",
            "\n",
            "+-------+------------+----------+-----------------+\n",
            "|summary|EmployeeName|Department|           Salary|\n",
            "+-------+------------+----------+-----------------+\n",
            "|  count|           5|         5|                5|\n",
            "|   mean|        NULL|      NULL|           3740.0|\n",
            "| stddev|        NULL|      NULL|712.7411872482185|\n",
            "|    min|       James|   Finance|             3000|\n",
            "|    max|      Robert|     Sales|             4600|\n",
            "+-------+------------+----------+-----------------+\n",
            "\n"
          ]
        }
      ]
    },
    {
      "cell_type": "markdown",
      "source": [
        "### **Tugas 2: Gunakan operasi filter, select, groupBy untuk mengekstrak informasi dari data, serta lakukan agregasi data untuk mendapatkan insight tentang dataset menggunakan perintah seperti mean, max, sum.**"
      ],
      "metadata": {
        "id": "s_FxrC1d5zLB"
      }
    },
    {
      "cell_type": "code",
      "source": [
        "# Tugas 2: Operasi filter, select, groupBy dan agregasi (mean, max, sum)\n",
        "df.select('EmployeeName', 'Salary').show() # Select kolom tertentu\n",
        "df.filter(df['Salary'] > 3000).show() # Filter gaji > 3000\n",
        "df.groupBy('Department').agg(\n",
        "    F.mean('Salary').alias('MeanSalary'),\n",
        "    F.max('Salary').alias('MaxSalary'),\n",
        "    F.sum('Salary').alias('TotalSalary')\n",
        ").show()"
      ],
      "metadata": {
        "colab": {
          "base_uri": "https://localhost:8080/"
        },
        "id": "jHBUzAYO5qoI",
        "outputId": "9db8968b-434c-4eca-8620-1dbc9426be31"
      },
      "execution_count": null,
      "outputs": [
        {
          "output_type": "stream",
          "name": "stdout",
          "text": [
            "+------------+------+\n",
            "|EmployeeName|Salary|\n",
            "+------------+------+\n",
            "|       James|  3000|\n",
            "|     Michael|  4600|\n",
            "|      Robert|  4100|\n",
            "|       Maria|  3000|\n",
            "|        Ravi|  4000|\n",
            "+------------+------+\n",
            "\n",
            "+------------+----------+------+\n",
            "|EmployeeName|Department|Salary|\n",
            "+------------+----------+------+\n",
            "|     Michael|     Sales|  4600|\n",
            "|      Robert|     Sales|  4100|\n",
            "|        Ravi|   Finance|  4000|\n",
            "+------------+----------+------+\n",
            "\n",
            "+----------+----------+---------+-----------+\n",
            "|Department|MeanSalary|MaxSalary|TotalSalary|\n",
            "+----------+----------+---------+-----------+\n",
            "|     Sales|    3900.0|     4600|      11700|\n",
            "|   Finance|    3500.0|     4000|       7000|\n",
            "+----------+----------+---------+-----------+\n",
            "\n"
          ]
        }
      ]
    },
    {
      "cell_type": "markdown",
      "source": [
        "### **Tugas 3: Eksplorasi bagaimana mengolah tipe data kompleks dalam Spark DataFrames.**"
      ],
      "metadata": {
        "id": "B2HW9V8E6Bfc"
      }
    },
    {
      "cell_type": "code",
      "source": [
        "# Tugas 3: Eksplorasi tipe data kompleks, menambah kolom kolom baru dengan perhitungan\n",
        "df = df.withColumn('SalaryBonus', df['Salary'] * 0.1) # Bonus 10% salary\n",
        "df = df.withColumn('TotalCompensation', df['Salary'] + df['SalaryBonus']) # Total kompensasi\n",
        "df.show()"
      ],
      "metadata": {
        "colab": {
          "base_uri": "https://localhost:8080/"
        },
        "id": "Ig3Vdqii5-cD",
        "outputId": "632fe8ed-810f-4594-a3c8-525b4b75d880"
      },
      "execution_count": null,
      "outputs": [
        {
          "output_type": "stream",
          "name": "stdout",
          "text": [
            "+------------+----------+------+-----------+-----------------+\n",
            "|EmployeeName|Department|Salary|SalaryBonus|TotalCompensation|\n",
            "+------------+----------+------+-----------+-----------------+\n",
            "|       James|     Sales|  3000|      300.0|           3300.0|\n",
            "|     Michael|     Sales|  4600|      460.0|           5060.0|\n",
            "|      Robert|     Sales|  4100|      410.0|           4510.0|\n",
            "|       Maria|   Finance|  3000|      300.0|           3300.0|\n",
            "|        Ravi|   Finance|  4000|      400.0|           4400.0|\n",
            "+------------+----------+------+-----------+-----------------+\n",
            "\n"
          ]
        }
      ]
    },
    {
      "cell_type": "markdown",
      "source": [
        "### **Tugas 4: Implementasikan window function untuk menghitung running totals atau rangkings.**"
      ],
      "metadata": {
        "id": "SMbm5iOZ6F2W"
      }
    },
    {
      "cell_type": "code",
      "source": [
        "# Tugas 4: Implementasi window function untuk rangking berdasarkan Salary dalam Department\n",
        "print(\"rank berdasarkan Salary per Department\")\n",
        "windowSpec = Window.partitionBy('Department').orderBy(df['Salary'].desc())\n",
        "df.withColumn('Rank', F.rank().over(windowSpec)).show()"
      ],
      "metadata": {
        "colab": {
          "base_uri": "https://localhost:8080/"
        },
        "id": "FMu2wzO36L7p",
        "outputId": "28233633-cf4b-4b0c-d779-c65220f1cd41"
      },
      "execution_count": null,
      "outputs": [
        {
          "output_type": "stream",
          "name": "stdout",
          "text": [
            "rank berdasarkan Salary per Department\n",
            "+------------+----------+------+-----------+-----------------+----+\n",
            "|EmployeeName|Department|Salary|SalaryBonus|TotalCompensation|Rank|\n",
            "+------------+----------+------+-----------+-----------------+----+\n",
            "|        Ravi|   Finance|  4000|      400.0|           4400.0|   1|\n",
            "|       Maria|   Finance|  3000|      300.0|           3300.0|   2|\n",
            "|     Michael|     Sales|  4600|      460.0|           5060.0|   1|\n",
            "|      Robert|     Sales|  4100|      410.0|           4510.0|   2|\n",
            "|       James|     Sales|  3000|      300.0|           3300.0|   3|\n",
            "+------------+----------+------+-----------+-----------------+----+\n",
            "\n"
          ]
        }
      ]
    },
    {
      "cell_type": "markdown",
      "source": [
        "### **Tugas 5: Eksplorasi dengan Dataset**"
      ],
      "metadata": {
        "id": "6U3KD33t68u1"
      }
    },
    {
      "cell_type": "code",
      "source": [
        "# persiapan\n",
        "\n",
        "from google.colab import files\n",
        "files.upload()  # Upload kaggle.json\n",
        "\n",
        "!mkdir -p ~/.kaggle     # instalasi dan setup\n",
        "!cp kaggle.json ~/.kaggle/\n",
        "!chmod 600 ~/.kaggle/kaggle.json\n",
        "!pip install kaggle\n",
        "\n",
        "!kaggle datasets download aprabowo/indonesia-tourism-destination\n",
        "!unzip indonesia-tourism-destination.zip -d indonesia_tourism"
      ],
      "metadata": {
        "colab": {
          "base_uri": "https://localhost:8080/",
          "height": 505
        },
        "id": "ADAkgSCT6-Av",
        "outputId": "cb103711-ec27-4e69-860c-a9f660de6f93"
      },
      "execution_count": 8,
      "outputs": [
        {
          "output_type": "display_data",
          "data": {
            "text/plain": [
              "<IPython.core.display.HTML object>"
            ],
            "text/html": [
              "\n",
              "     <input type=\"file\" id=\"files-3f80e71e-f3b2-4b31-bc3c-f9a63d9a51a1\" name=\"files[]\" multiple disabled\n",
              "        style=\"border:none\" />\n",
              "     <output id=\"result-3f80e71e-f3b2-4b31-bc3c-f9a63d9a51a1\">\n",
              "      Upload widget is only available when the cell has been executed in the\n",
              "      current browser session. Please rerun this cell to enable.\n",
              "      </output>\n",
              "      <script>// Copyright 2017 Google LLC\n",
              "//\n",
              "// Licensed under the Apache License, Version 2.0 (the \"License\");\n",
              "// you may not use this file except in compliance with the License.\n",
              "// You may obtain a copy of the License at\n",
              "//\n",
              "//      http://www.apache.org/licenses/LICENSE-2.0\n",
              "//\n",
              "// Unless required by applicable law or agreed to in writing, software\n",
              "// distributed under the License is distributed on an \"AS IS\" BASIS,\n",
              "// WITHOUT WARRANTIES OR CONDITIONS OF ANY KIND, either express or implied.\n",
              "// See the License for the specific language governing permissions and\n",
              "// limitations under the License.\n",
              "\n",
              "/**\n",
              " * @fileoverview Helpers for google.colab Python module.\n",
              " */\n",
              "(function(scope) {\n",
              "function span(text, styleAttributes = {}) {\n",
              "  const element = document.createElement('span');\n",
              "  element.textContent = text;\n",
              "  for (const key of Object.keys(styleAttributes)) {\n",
              "    element.style[key] = styleAttributes[key];\n",
              "  }\n",
              "  return element;\n",
              "}\n",
              "\n",
              "// Max number of bytes which will be uploaded at a time.\n",
              "const MAX_PAYLOAD_SIZE = 100 * 1024;\n",
              "\n",
              "function _uploadFiles(inputId, outputId) {\n",
              "  const steps = uploadFilesStep(inputId, outputId);\n",
              "  const outputElement = document.getElementById(outputId);\n",
              "  // Cache steps on the outputElement to make it available for the next call\n",
              "  // to uploadFilesContinue from Python.\n",
              "  outputElement.steps = steps;\n",
              "\n",
              "  return _uploadFilesContinue(outputId);\n",
              "}\n",
              "\n",
              "// This is roughly an async generator (not supported in the browser yet),\n",
              "// where there are multiple asynchronous steps and the Python side is going\n",
              "// to poll for completion of each step.\n",
              "// This uses a Promise to block the python side on completion of each step,\n",
              "// then passes the result of the previous step as the input to the next step.\n",
              "function _uploadFilesContinue(outputId) {\n",
              "  const outputElement = document.getElementById(outputId);\n",
              "  const steps = outputElement.steps;\n",
              "\n",
              "  const next = steps.next(outputElement.lastPromiseValue);\n",
              "  return Promise.resolve(next.value.promise).then((value) => {\n",
              "    // Cache the last promise value to make it available to the next\n",
              "    // step of the generator.\n",
              "    outputElement.lastPromiseValue = value;\n",
              "    return next.value.response;\n",
              "  });\n",
              "}\n",
              "\n",
              "/**\n",
              " * Generator function which is called between each async step of the upload\n",
              " * process.\n",
              " * @param {string} inputId Element ID of the input file picker element.\n",
              " * @param {string} outputId Element ID of the output display.\n",
              " * @return {!Iterable<!Object>} Iterable of next steps.\n",
              " */\n",
              "function* uploadFilesStep(inputId, outputId) {\n",
              "  const inputElement = document.getElementById(inputId);\n",
              "  inputElement.disabled = false;\n",
              "\n",
              "  const outputElement = document.getElementById(outputId);\n",
              "  outputElement.innerHTML = '';\n",
              "\n",
              "  const pickedPromise = new Promise((resolve) => {\n",
              "    inputElement.addEventListener('change', (e) => {\n",
              "      resolve(e.target.files);\n",
              "    });\n",
              "  });\n",
              "\n",
              "  const cancel = document.createElement('button');\n",
              "  inputElement.parentElement.appendChild(cancel);\n",
              "  cancel.textContent = 'Cancel upload';\n",
              "  const cancelPromise = new Promise((resolve) => {\n",
              "    cancel.onclick = () => {\n",
              "      resolve(null);\n",
              "    };\n",
              "  });\n",
              "\n",
              "  // Wait for the user to pick the files.\n",
              "  const files = yield {\n",
              "    promise: Promise.race([pickedPromise, cancelPromise]),\n",
              "    response: {\n",
              "      action: 'starting',\n",
              "    }\n",
              "  };\n",
              "\n",
              "  cancel.remove();\n",
              "\n",
              "  // Disable the input element since further picks are not allowed.\n",
              "  inputElement.disabled = true;\n",
              "\n",
              "  if (!files) {\n",
              "    return {\n",
              "      response: {\n",
              "        action: 'complete',\n",
              "      }\n",
              "    };\n",
              "  }\n",
              "\n",
              "  for (const file of files) {\n",
              "    const li = document.createElement('li');\n",
              "    li.append(span(file.name, {fontWeight: 'bold'}));\n",
              "    li.append(span(\n",
              "        `(${file.type || 'n/a'}) - ${file.size} bytes, ` +\n",
              "        `last modified: ${\n",
              "            file.lastModifiedDate ? file.lastModifiedDate.toLocaleDateString() :\n",
              "                                    'n/a'} - `));\n",
              "    const percent = span('0% done');\n",
              "    li.appendChild(percent);\n",
              "\n",
              "    outputElement.appendChild(li);\n",
              "\n",
              "    const fileDataPromise = new Promise((resolve) => {\n",
              "      const reader = new FileReader();\n",
              "      reader.onload = (e) => {\n",
              "        resolve(e.target.result);\n",
              "      };\n",
              "      reader.readAsArrayBuffer(file);\n",
              "    });\n",
              "    // Wait for the data to be ready.\n",
              "    let fileData = yield {\n",
              "      promise: fileDataPromise,\n",
              "      response: {\n",
              "        action: 'continue',\n",
              "      }\n",
              "    };\n",
              "\n",
              "    // Use a chunked sending to avoid message size limits. See b/62115660.\n",
              "    let position = 0;\n",
              "    do {\n",
              "      const length = Math.min(fileData.byteLength - position, MAX_PAYLOAD_SIZE);\n",
              "      const chunk = new Uint8Array(fileData, position, length);\n",
              "      position += length;\n",
              "\n",
              "      const base64 = btoa(String.fromCharCode.apply(null, chunk));\n",
              "      yield {\n",
              "        response: {\n",
              "          action: 'append',\n",
              "          file: file.name,\n",
              "          data: base64,\n",
              "        },\n",
              "      };\n",
              "\n",
              "      let percentDone = fileData.byteLength === 0 ?\n",
              "          100 :\n",
              "          Math.round((position / fileData.byteLength) * 100);\n",
              "      percent.textContent = `${percentDone}% done`;\n",
              "\n",
              "    } while (position < fileData.byteLength);\n",
              "  }\n",
              "\n",
              "  // All done.\n",
              "  yield {\n",
              "    response: {\n",
              "      action: 'complete',\n",
              "    }\n",
              "  };\n",
              "}\n",
              "\n",
              "scope.google = scope.google || {};\n",
              "scope.google.colab = scope.google.colab || {};\n",
              "scope.google.colab._files = {\n",
              "  _uploadFiles,\n",
              "  _uploadFilesContinue,\n",
              "};\n",
              "})(self);\n",
              "</script> "
            ]
          },
          "metadata": {}
        },
        {
          "output_type": "stream",
          "name": "stdout",
          "text": [
            "Saving kaggle.json to kaggle.json\n",
            "Requirement already satisfied: kaggle in /usr/local/lib/python3.12/dist-packages (1.7.4.5)\n",
            "Requirement already satisfied: bleach in /usr/local/lib/python3.12/dist-packages (from kaggle) (6.2.0)\n",
            "Requirement already satisfied: certifi>=14.05.14 in /usr/local/lib/python3.12/dist-packages (from kaggle) (2025.8.3)\n",
            "Requirement already satisfied: charset-normalizer in /usr/local/lib/python3.12/dist-packages (from kaggle) (3.4.3)\n",
            "Requirement already satisfied: idna in /usr/local/lib/python3.12/dist-packages (from kaggle) (3.10)\n",
            "Requirement already satisfied: protobuf in /usr/local/lib/python3.12/dist-packages (from kaggle) (5.29.5)\n",
            "Requirement already satisfied: python-dateutil>=2.5.3 in /usr/local/lib/python3.12/dist-packages (from kaggle) (2.9.0.post0)\n",
            "Requirement already satisfied: python-slugify in /usr/local/lib/python3.12/dist-packages (from kaggle) (8.0.4)\n",
            "Requirement already satisfied: requests in /usr/local/lib/python3.12/dist-packages (from kaggle) (2.32.4)\n",
            "Requirement already satisfied: setuptools>=21.0.0 in /usr/local/lib/python3.12/dist-packages (from kaggle) (75.2.0)\n",
            "Requirement already satisfied: six>=1.10 in /usr/local/lib/python3.12/dist-packages (from kaggle) (1.17.0)\n",
            "Requirement already satisfied: text-unidecode in /usr/local/lib/python3.12/dist-packages (from kaggle) (1.3)\n",
            "Requirement already satisfied: tqdm in /usr/local/lib/python3.12/dist-packages (from kaggle) (4.67.1)\n",
            "Requirement already satisfied: urllib3>=1.15.1 in /usr/local/lib/python3.12/dist-packages (from kaggle) (2.5.0)\n",
            "Requirement already satisfied: webencodings in /usr/local/lib/python3.12/dist-packages (from kaggle) (0.5.1)\n",
            "Dataset URL: https://www.kaggle.com/datasets/aprabowo/indonesia-tourism-destination\n",
            "License(s): copyright-authors\n",
            "Downloading indonesia-tourism-destination.zip to /content\n",
            "  0% 0.00/158k [00:00<?, ?B/s]\n",
            "100% 158k/158k [00:00<00:00, 341MB/s]\n",
            "Archive:  indonesia-tourism-destination.zip\n",
            "  inflating: indonesia_tourism/package_tourism.csv  \n",
            "  inflating: indonesia_tourism/tourism_rating.csv  \n",
            "  inflating: indonesia_tourism/tourism_with_id.csv  \n",
            "  inflating: indonesia_tourism/user.csv  \n"
          ]
        }
      ]
    },
    {
      "cell_type": "code",
      "source": [
        "from pyspark.sql import SparkSession\n",
        "from pyspark.sql import functions as F\n",
        "\n",
        "# Inisialisasi SparkSession\n",
        "spark = SparkSession.builder.appName('IndonesiaTourism').getOrCreate()\n",
        "\n",
        "# Load CSV ke DataFrame dengan header dan inferSchema aktif supaya kolom sesuai tipe data\n",
        "package_df = spark.read.option('header', True).option('inferSchema', True).csv('indonesia_tourism/package_tourism.csv')\n",
        "rating_df = spark.read.option('header', True).option('inferSchema', True).csv('indonesia_tourism/tourism_rating.csv')\n",
        "tourism_df = spark.read.option('header', True).option('inferSchema', True).csv('indonesia_tourism/tourism_with_id.csv')\n",
        "user_df = spark.read.option('header', True).option('inferSchema', True).csv('indonesia_tourism/user.csv')"
      ],
      "metadata": {
        "id": "FcnoKNWW7lvo"
      },
      "execution_count": 11,
      "outputs": []
    },
    {
      "cell_type": "code",
      "source": [
        "# Tampilkan skema singkat sebagai validasi\n",
        "print(\"Schema package_tourism:\")\n",
        "package_df.printSchema()\n",
        "\n",
        "print(\"Schema tourism_rating:\")\n",
        "rating_df.printSchema()"
      ],
      "metadata": {
        "colab": {
          "base_uri": "https://localhost:8080/"
        },
        "id": "Fkq-UrdL8zNJ",
        "outputId": "c6478f0e-0bf5-40a6-d379-0eac7bc795c3"
      },
      "execution_count": 13,
      "outputs": [
        {
          "output_type": "stream",
          "name": "stdout",
          "text": [
            "Schema package_tourism:\n",
            "root\n",
            " |-- Package: integer (nullable = true)\n",
            " |-- City: string (nullable = true)\n",
            " |-- Place_Tourism1: string (nullable = true)\n",
            " |-- Place_Tourism2: string (nullable = true)\n",
            " |-- Place_Tourism3: string (nullable = true)\n",
            " |-- Place_Tourism4: string (nullable = true)\n",
            " |-- Place_Tourism5: string (nullable = true)\n",
            "\n",
            "Schema tourism_rating:\n",
            "root\n",
            " |-- User_Id: integer (nullable = true)\n",
            " |-- Place_Id: integer (nullable = true)\n",
            " |-- Place_Ratings: integer (nullable = true)\n",
            "\n"
          ]
        }
      ]
    },
    {
      "cell_type": "code",
      "source": [
        "# eksplorasi dan tampilkan isi data\n",
        "\n",
        "# eksplorasi untuk package_tourism\n",
        "print(\"Data sample package_tourism:\")\n",
        "package_df.show(5)\n",
        "print(\"Statistik deskriptif numeric:\")\n",
        "package_df.describe().show()\n",
        "\n",
        "# Eksplorasi tourism_rating\n",
        "print(\"Data sample tourism_rating:\")\n",
        "rating_df.show(5)\n",
        "print(\"Statistik deskriptif numeric:\")\n",
        "rating_df.describe().show()\n",
        "\n",
        "# Eksplorasi tourism_with_id\n",
        "print(\"Data sample tourism_with_id:\")\n",
        "tourism_df.show(5)\n",
        "print(\"Kategori unik destinasi wisata:\")\n",
        "tourism_df.select('Category').distinct().show()\n",
        "\n",
        "# Eksplorasi user data\n",
        "print(\"Data sample user:\")\n",
        "user_df.show(5)\n",
        "print(\"Jumlah total user unik:\")\n",
        "print(user_df.select('User_id').distinct().count())"
      ],
      "metadata": {
        "colab": {
          "base_uri": "https://localhost:8080/"
        },
        "id": "HbCGz9ma_P34",
        "outputId": "2fd939b4-d0a1-4665-826c-720be658c032"
      },
      "execution_count": 15,
      "outputs": [
        {
          "output_type": "stream",
          "name": "stdout",
          "text": [
            "Data sample package_tourism:\n",
            "+-------+-------+--------------------+------------------+--------------------+--------------------+--------------+\n",
            "|Package|   City|      Place_Tourism1|    Place_Tourism2|      Place_Tourism3|      Place_Tourism4|Place_Tourism5|\n",
            "+-------+-------+--------------------+------------------+--------------------+--------------------+--------------+\n",
            "|      1|Jakarta|   Pasar Tanah Abang|      Taman Ayodya|      Museum Tekstil|                NULL|          NULL|\n",
            "|      2|Jakarta|   Pasar Tanah Abang|Pasar Taman Puring|Pasar Petak Sembilan|                NULL|          NULL|\n",
            "|      3|Jakarta|Perpustakaan Nasi...|             Monas|     Masjid Istiqlal|                NULL|          NULL|\n",
            "|      4|Jakarta|        Pulau Tidung|    Pulau Bidadari|          Pulau Pari|       Pulau Pramuka| Pulau Pelangi|\n",
            "|      5|Jakarta|Museum Satria Man...|     Museum Wayang|Museum Bahari Jak...|Museum Macan (Mod...|          NULL|\n",
            "+-------+-------+--------------------+------------------+--------------------+--------------------+--------------+\n",
            "only showing top 5 rows\n",
            "\n",
            "Statistik deskriptif numeric:\n",
            "+-------+------------------+----------+--------------------+--------------------+--------------------+--------------------+--------------------+\n",
            "|summary|           Package|      City|      Place_Tourism1|      Place_Tourism2|      Place_Tourism3|      Place_Tourism4|      Place_Tourism5|\n",
            "+-------+------------------+----------+--------------------+--------------------+--------------------+--------------------+--------------------+\n",
            "|  count|               100|       100|                 100|                 100|                 100|                  66|                  39|\n",
            "|   mean|              50.5|      NULL|                NULL|                NULL|                NULL|                NULL|                NULL|\n",
            "| stddev|29.011491975882016|      NULL|                NULL|                NULL|                NULL|                NULL|                NULL|\n",
            "|    min|                 1|   Bandung|   Air Mancur Menari|Alun Alun Selatan...|     Panama Park 825|Atlantis Land Sur...|Ade Irma Suryani ...|\n",
            "|    max|               100|Yogyakarta|Wisata Mangrove T...| Wisata Lereng Kelir|| Food Junction G...|Wisata Kuliner Pe...|         | Peta Park|\n",
            "+-------+------------------+----------+--------------------+--------------------+--------------------+--------------------+--------------------+\n",
            "\n",
            "Data sample tourism_rating:\n",
            "+-------+--------+-------------+\n",
            "|User_Id|Place_Id|Place_Ratings|\n",
            "+-------+--------+-------------+\n",
            "|      1|     179|            3|\n",
            "|      1|     344|            2|\n",
            "|      1|       5|            5|\n",
            "|      1|     373|            3|\n",
            "|      1|     101|            4|\n",
            "+-------+--------+-------------+\n",
            "only showing top 5 rows\n",
            "\n",
            "Statistik deskriptif numeric:\n",
            "+-------+-----------------+------------------+------------------+\n",
            "|summary|          User_Id|          Place_Id|     Place_Ratings|\n",
            "+-------+-----------------+------------------+------------------+\n",
            "|  count|            10000|             10000|             10000|\n",
            "|   mean|         151.2927|          219.4164|            3.0665|\n",
            "| stddev|86.13737395247877|126.22833505317685|1.3799522371508666|\n",
            "|    min|                1|                 1|                 1|\n",
            "|    max|              300|               437|                 5|\n",
            "+-------+-----------------+------------------+------------------+\n",
            "\n",
            "Data sample tourism_with_id:\n",
            "+--------+--------------------+--------------------+-------------+-------+------+------+------------+--------------------+----------+-----------+----+----+\n",
            "|Place_Id|          Place_Name|         Description|     Category|   City| Price|Rating|Time_Minutes|          Coordinate|       Lat|       Long|_c11|_c12|\n",
            "+--------+--------------------+--------------------+-------------+-------+------+------+------------+--------------------+----------+-----------+----+----+\n",
            "|       1|    Monumen Nasional|Monumen Nasional ...|       Budaya|Jakarta| 20000|   4.6|          15|{'lat': -6.175392...|-6.1753924|106.8271528|NULL|   1|\n",
            "|       2|            Kota Tua|Kota tua di Jakar...|       Budaya|Jakarta|     0|   4.6|          90|{'lat': -6.137644...|-6.1376448|106.8171245|NULL|   2|\n",
            "|       3|       Dunia Fantasi|Dunia Fantasi ata...|Taman Hiburan|Jakarta|270000|   4.6|         360|{'lat': -6.125312...|-6.1253124|106.8335377|NULL|   3|\n",
            "|       4|Taman Mini Indone...|Taman Mini Indone...|Taman Hiburan|Jakarta| 10000|   4.5|        NULL|{'lat': -6.302445...|-6.3024459|106.8951559|NULL|   4|\n",
            "|       5|Atlantis Water Ad...|Atlantis Water Ad...|Taman Hiburan|Jakarta| 94000|   4.5|          60|{'lat': -6.12419,...|  -6.12419| 106.839134|NULL|   5|\n",
            "+--------+--------------------+--------------------+-------------+-------+------+------+------------+--------------------+----------+-----------+----+----+\n",
            "only showing top 5 rows\n",
            "\n",
            "Kategori unik destinasi wisata:\n",
            "+-----------+\n",
            "|   Category|\n",
            "+-----------+\n",
            "|110.4264512|\n",
            "|110.4247345|\n",
            "|110.6624196|\n",
            "|107.4350179|\n",
            "|    110.441|\n",
            "|   106.5885|\n",
            "|106.5863989|\n",
            "| 112.718997|\n",
            "|110.3751922|\n",
            "|107.6099853|\n",
            "|110.0198257|\n",
            "|106.8327716|\n",
            "|106.8230496|\n",
            "|110.4102923|\n",
            "| 107.626416|\n",
            "|112.8216622|\n",
            "| 112.718453|\n",
            "|110.4366436|\n",
            "|     tenang|\n",
            "|112.7378985|\n",
            "+-----------+\n",
            "only showing top 20 rows\n",
            "\n",
            "Data sample user:\n",
            "+-------+--------------------+---+\n",
            "|User_Id|            Location|Age|\n",
            "+-------+--------------------+---+\n",
            "|      1|Semarang, Jawa Te...| 20|\n",
            "|      2|  Bekasi, Jawa Barat| 21|\n",
            "|      3| Cirebon, Jawa Barat| 23|\n",
            "|      4|  Bekasi, Jawa Barat| 21|\n",
            "|      5|Lampung, Sumatera...| 20|\n",
            "+-------+--------------------+---+\n",
            "only showing top 5 rows\n",
            "\n",
            "Jumlah total user unik:\n",
            "300\n"
          ]
        }
      ]
    },
    {
      "cell_type": "code",
      "source": [
        "print(tourism_df.columns)"
      ],
      "metadata": {
        "colab": {
          "base_uri": "https://localhost:8080/"
        },
        "id": "WkWW8FTZCo6p",
        "outputId": "a4b56767-a09e-4259-f0da-86422b56ea3f"
      },
      "execution_count": 17,
      "outputs": [
        {
          "output_type": "stream",
          "name": "stdout",
          "text": [
            "['Place_Id', 'Place_Name', 'Description', 'Category', 'City', 'Price', 'Rating', 'Time_Minutes', 'Coordinate', 'Lat', 'Long', '_c11', '_c12']\n"
          ]
        }
      ]
    },
    {
      "cell_type": "code",
      "source": [
        "# manipulasi lanjutan\n",
        "\n",
        "# Tampilkan 5 baris awal sebagai referensi\n",
        "print(\"isi data 5 baris awal:\")\n",
        "tourism_df.show(5)\n",
        "\n",
        "# Isi nilai null pada Rating dengan 0\n",
        "tourism_df = tourism_df.fillna({'Rating': 0})\n",
        "\n",
        "# Filter destinasi dengan harga tiket di bawah 50000 dan rating di atas 4\n",
        "print(\"Destinasi dengan harga tiket di bawah 50000 dan rating di atas 4:\")\n",
        "filtered_df = tourism_df.filter((F.col('Price') < 50000) & (F.col('Rating') > 4))\n",
        "filtered_df.show()\n",
        "\n",
        "# Hitung rating tertinggi dan jumlah destinasi wisata per kota\n",
        "print(\"Rating tertinggi dan jumlah destinasi wisata per kota:\")\n",
        "rating_city_stats = tourism_df.groupBy('City').agg(\n",
        "    F.max('Rating').alias('MaxRating'),\n",
        "    F.count('Place_Id').alias('CountDestinations')\n",
        ")\n",
        "rating_city_stats.show()\n",
        "\n",
        "# Urutkan destinasi berdasarkan rating tertinggi dan harga termurah (descending rating, ascending price)\n",
        "print(\"Destinasi berdasarkan rating tertinggi dan harga termurah:\")\n",
        "sorted_df = tourism_df.orderBy(F.col('Rating').desc(), F.col('Price').asc())\n",
        "sorted_df.select('Place_Name', 'Rating', 'Price').show(17)"
      ],
      "metadata": {
        "colab": {
          "base_uri": "https://localhost:8080/"
        },
        "id": "ZlaOVQTvCKfu",
        "outputId": "e0e28d85-e10b-429c-b2e1-f52dfe1507ea"
      },
      "execution_count": 36,
      "outputs": [
        {
          "output_type": "stream",
          "name": "stdout",
          "text": [
            "isi data 5 baris awal:\n",
            "+--------+--------------------+--------------------+-------------+-------+------+------+------------+--------------------+----------+-----------+----+----+\n",
            "|Place_Id|          Place_Name|         Description|     Category|   City| Price|Rating|Time_Minutes|          Coordinate|       Lat|       Long|_c11|_c12|\n",
            "+--------+--------------------+--------------------+-------------+-------+------+------+------------+--------------------+----------+-----------+----+----+\n",
            "|       1|    Monumen Nasional|Monumen Nasional ...|       Budaya|Jakarta| 20000|   4.6|          15|{'lat': -6.175392...|-6.1753924|106.8271528|NULL|   1|\n",
            "|       2|            Kota Tua|Kota tua di Jakar...|       Budaya|Jakarta|     0|   4.6|          90|{'lat': -6.137644...|-6.1376448|106.8171245|NULL|   2|\n",
            "|       3|       Dunia Fantasi|Dunia Fantasi ata...|Taman Hiburan|Jakarta|270000|   4.6|         360|{'lat': -6.125312...|-6.1253124|106.8335377|NULL|   3|\n",
            "|       4|Taman Mini Indone...|Taman Mini Indone...|Taman Hiburan|Jakarta| 10000|   4.5|        NULL|{'lat': -6.302445...|-6.3024459|106.8951559|NULL|   4|\n",
            "|       5|Atlantis Water Ad...|Atlantis Water Ad...|Taman Hiburan|Jakarta| 94000|   4.5|          60|{'lat': -6.12419,...|  -6.12419| 106.839134|NULL|   5|\n",
            "+--------+--------------------+--------------------+-------------+-------+------+------+------------+--------------------+----------+-----------+----+----+\n",
            "only showing top 5 rows\n",
            "\n",
            "Destinasi dengan harga tiket di bawah 50000 dan rating di atas 4:\n",
            "+--------+--------------------+--------------------+-------------+----------+-----+------+------------+--------------------+----------+-----------+----+----+\n",
            "|Place_Id|          Place_Name|         Description|     Category|      City|Price|Rating|Time_Minutes|          Coordinate|       Lat|       Long|_c11|_c12|\n",
            "+--------+--------------------+--------------------+-------------+----------+-----+------+------------+--------------------+----------+-----------+----+----+\n",
            "|      95|Desa Wisata Sunga...|Kampung Code bera...|Taman Hiburan|Yogyakarta|    0|     5|        NULL|{'lat': -7.822908...|-7.8229089|110.3756894|NULL|  95|\n",
            "+--------+--------------------+--------------------+-------------+----------+-----+------+------------+--------------------+----------+-----------+----+----+\n",
            "\n",
            "Rating tertinggi dan jumlah destinasi wisata per kota:\n",
            "+--------------------+--------------------+-----------------+\n",
            "|                City|           MaxRating|CountDestinations|\n",
            "+--------------------+--------------------+-----------------+\n",
            "|                NULL|                   0|              137|\n",
            "|        Desa Bugisan|    Kabupaten Klaten|                1|\n",
            "|        Gunung Kidul| maka jarak tempu...|                1|\n",
            "|         Jawa Tengah| yang dibangun se...|                1|\n",
            "| Jepang lebih kej...| dengan kolam hia...|                1|\n",
            "| damai) (bahasa J...| Jawa Tengah. Den...|                1|\n",
            "|    jembatan gantung| maupun danau bua...|                1|\n",
            "| penggunaan kaca-...| sampai adanya ru...|                1|\n",
            "| seluruh sudut Ka...| seperti di area ...|                1|\n",
            "| sewaktu kunjunga...| \"\"Gedung Sate ad...|                1|\n",
            "|             Bandung|                 4.9|               99|\n",
            "|             Jakarta|                 4.8|               70|\n",
            "|            Semarang|                 4.8|               46|\n",
            "|            Surabaya|                 4.7|               37|\n",
            "|          Yogyakarta|                   5|              108|\n",
            "+--------------------+--------------------+-----------------+\n",
            "\n",
            "Destinasi berdasarkan rating tertinggi dan harga termurah:\n",
            "+--------------------+------+-----+\n",
            "|          Place_Name|Rating|Price|\n",
            "+--------------------+------+-----+\n",
            "|Desa Wisata Sunga...|     5|    0|\n",
            "|Kebun Tanaman Oba...|   4.9|    0|\n",
            "|Masjid Daarut Tau...|   4.9|    0|\n",
            "|Gereja Tiberias I...|   4.9|    0|\n",
            "|     Gereja Katedral|   4.8|    0|\n",
            "|   Kawasan Malioboro|   4.8|    0|\n",
            "|Galeri Indonesia ...|   4.8|    0|\n",
            "|Gereja Katedral S...|   4.8|    0|\n",
            "|Masjid Agung Tran...|   4.8|    0|\n",
            "|   Masjid Salman ITB|   4.8|    0|\n",
            "|Gua Maria Kerep A...|   4.8| 2000|\n",
            "|     Plaza Indonesia|   4.7|    0|\n",
            "|Perpustakaan Nasi...|   4.7|    0|\n",
            "|Nol Kilometer Jl....|   4.7|    0|\n",
            "|         Jalan Braga|   4.7|    0|\n",
            "|Grand Indonesia Mall|   4.7|    0|\n",
            "|Taman Lapangan Ba...|   4.7|    0|\n",
            "+--------------------+------+-----+\n",
            "only showing top 17 rows\n",
            "\n"
          ]
        }
      ]
    },
    {
      "cell_type": "code",
      "source": [],
      "metadata": {
        "id": "UNpEWQ-KS2PZ"
      },
      "execution_count": null,
      "outputs": []
    }
  ]
}