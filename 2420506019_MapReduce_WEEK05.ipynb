{
  "nbformat": 4,
  "nbformat_minor": 0,
  "metadata": {
    "colab": {
      "provenance": []
    },
    "kernelspec": {
      "name": "python3",
      "display_name": "Python 3"
    },
    "language_info": {
      "name": "python"
    }
  },
  "cells": [
    {
      "cell_type": "markdown",
      "source": [
        "**Tugas 1: Pelajari bagaimana MapReduce bekerja dengan dataset sederhana dan coba implementasikan konsep key-value pair.**"
      ],
      "metadata": {
        "id": "fdCI_4ldh0Ae"
      }
    },
    {
      "cell_type": "code",
      "execution_count": 2,
      "metadata": {
        "colab": {
          "base_uri": "https://localhost:8080/"
        },
        "id": "GlJEt0ZthNxe",
        "outputId": "e7690154-d9a6-49ee-b0ee-8dec8128be28"
      },
      "outputs": [
        {
          "output_type": "stream",
          "name": "stdout",
          "text": [
            "Mapped: [('Agus', 80), ('Bilqis', 70), ('Agus', 85), ('Cici', 90), ('Bilqis', 60)]\n",
            "Grouped: {'Agus': [80, 85], 'Bilqis': [70, 60], 'Cici': [90]}\n",
            "Reduced: {'Agus': 82.5, 'Bilqis': 65.0, 'Cici': 90.0}\n"
          ]
        }
      ],
      "source": [
        "# Data nilai mahasiswa per mata kuliah\n",
        "data = [\n",
        "    (\"Agus\", \"Matematika\", 80),\n",
        "    (\"Bilqis\", \"Matematika\", 70),\n",
        "    (\"Agus\", \"Fisika\", 85),\n",
        "    (\"Cici\", \"Fisika\", 90),\n",
        "    (\"Bilqis\", \"Kimia\", 60)\n",
        "]\n",
        "\n",
        "# Map: ubah jadi pasangan (nama, nilai)\n",
        "mapped = [(nama, nilai) for nama, mk, nilai in data]\n",
        "\n",
        "# Shuffle/Group: kumpulkan nilai per mahasiswa\n",
        "grouped = {}\n",
        "for nama, nilai in mapped:\n",
        "    grouped.setdefault(nama, []).append(nilai)\n",
        "\n",
        "# Reduce: hitung rata-rata nilai tiap mahasiswa\n",
        "reduced = {nama: sum(nilai_list)/len(nilai_list) for nama, nilai_list in grouped.items()}\n",
        "\n",
        "print(\"Mapped:\", mapped)\n",
        "print(\"Grouped:\", grouped)\n",
        "print(\"Reduced:\", reduced)"
      ]
    },
    {
      "cell_type": "markdown",
      "source": [
        "**Tugas 2: Implementasikan fungsi map_function dan reduce_function pada dataset teks sederhana, lalu hitung jumlah kata**"
      ],
      "metadata": {
        "id": "wSDh_q3GjhDg"
      }
    },
    {
      "cell_type": "code",
      "source": [
        "def mapper(teks):\n",
        "    hasil = []\n",
        "    simbol = \",.!?;:\"\n",
        "    for tanda in simbol:\n",
        "        teks = teks.replace(tanda, \"\")\n",
        "    for kata in teks.lower().split():\n",
        "        hasil.append((kata, 1))\n",
        "    return hasil\n",
        "\n",
        "def reducer(pasangan):\n",
        "    hasil = {}\n",
        "    for kata, freq in pasangan:\n",
        "        hasil[kata] = hasil.get(kata, 0) + freq\n",
        "    return hasil\n",
        "\n",
        "kalimat = ( \"Easy they come, easy they go. \"\n",
        "          \"I jump from the train, I ride off alone. \"\n",
        "          \"I never grew up, it's getting so old. \"\n",
        "          \"Help me hold onto you. \"\n",
        "          \"I've been the archer. \"\n",
        "          \"I've been the prey. \"\n",
        "          \"Who could ever leave me, darling? \"\n",
        "          \"But who could stay? \" )\n",
        "\n",
        "mapped = mapper(kalimat)\n",
        "reduced = reducer(mapped)\n",
        "\n",
        "for kata, jumlah in reduced.items():\n",
        "    print(f\"{kata} : {jumlah}\")\n"
      ],
      "metadata": {
        "colab": {
          "base_uri": "https://localhost:8080/"
        },
        "id": "QsM4kczVjeXG",
        "outputId": "403c8e85-d9c0-4313-84b4-f2b586d8e271"
      },
      "execution_count": 4,
      "outputs": [
        {
          "output_type": "stream",
          "name": "stdout",
          "text": [
            "easy : 2\n",
            "they : 2\n",
            "come : 1\n",
            "go : 1\n",
            "i : 3\n",
            "jump : 1\n",
            "from : 1\n",
            "the : 3\n",
            "train : 1\n",
            "ride : 1\n",
            "off : 1\n",
            "alone : 1\n",
            "never : 1\n",
            "grew : 1\n",
            "up : 1\n",
            "it's : 1\n",
            "getting : 1\n",
            "so : 1\n",
            "old : 1\n",
            "help : 1\n",
            "me : 2\n",
            "hold : 1\n",
            "onto : 1\n",
            "you : 1\n",
            "i've : 2\n",
            "been : 2\n",
            "archer : 1\n",
            "prey : 1\n",
            "who : 2\n",
            "could : 2\n",
            "ever : 1\n",
            "leave : 1\n",
            "darling : 1\n",
            "but : 1\n",
            "stay : 1\n"
          ]
        }
      ]
    },
    {
      "cell_type": "code",
      "source": [],
      "metadata": {
        "id": "4FFC965ImOcR"
      },
      "execution_count": null,
      "outputs": []
    }
  ]
}